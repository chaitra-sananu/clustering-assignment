{
 "cells": [
  {
   "cell_type": "code",
   "execution_count": 1,
   "metadata": {
    "_cell_guid": "b1076dfc-b9ad-4769-8c92-a6c4dae69d19",
    "_uuid": "8f2839f25d086af736a60e9eeb907d3b93b6e0e5"
   },
   "outputs": [],
   "source": [
    "import numpy as np # linear algebra\n",
    "import pandas as pd # data processing,"
   ]
  },
  {
   "cell_type": "code",
   "execution_count": 2,
   "metadata": {
    "_cell_guid": "79c7e3d0-c299-4dcb-8224-4455121ee9b0",
    "_uuid": "d629ff2d2480ee46fbb7e2d37f6b5fab8052498a"
   },
   "outputs": [],
   "source": [
    "crime_rates=pd.read_csv(\"../input/USArrests.csv\", index_col=0)"
   ]
  },
  {
   "cell_type": "code",
   "execution_count": 3,
   "metadata": {},
   "outputs": [
    {
     "data": {
      "text/html": [
       "<div>\n",
       "<style scoped>\n",
       "    .dataframe tbody tr th:only-of-type {\n",
       "        vertical-align: middle;\n",
       "    }\n",
       "\n",
       "    .dataframe tbody tr th {\n",
       "        vertical-align: top;\n",
       "    }\n",
       "\n",
       "    .dataframe thead th {\n",
       "        text-align: right;\n",
       "    }\n",
       "</style>\n",
       "<table border=\"1\" class=\"dataframe\">\n",
       "  <thead>\n",
       "    <tr style=\"text-align: right;\">\n",
       "      <th></th>\n",
       "      <th>Murder</th>\n",
       "      <th>Assault</th>\n",
       "      <th>UrbanPop</th>\n",
       "      <th>Rape</th>\n",
       "    </tr>\n",
       "  </thead>\n",
       "  <tbody>\n",
       "    <tr>\n",
       "      <th>Alabama</th>\n",
       "      <td>13.2</td>\n",
       "      <td>236</td>\n",
       "      <td>58</td>\n",
       "      <td>21.2</td>\n",
       "    </tr>\n",
       "    <tr>\n",
       "      <th>Alaska</th>\n",
       "      <td>10.0</td>\n",
       "      <td>263</td>\n",
       "      <td>48</td>\n",
       "      <td>44.5</td>\n",
       "    </tr>\n",
       "    <tr>\n",
       "      <th>Arizona</th>\n",
       "      <td>8.1</td>\n",
       "      <td>294</td>\n",
       "      <td>80</td>\n",
       "      <td>31.0</td>\n",
       "    </tr>\n",
       "    <tr>\n",
       "      <th>Arkansas</th>\n",
       "      <td>8.8</td>\n",
       "      <td>190</td>\n",
       "      <td>50</td>\n",
       "      <td>19.5</td>\n",
       "    </tr>\n",
       "    <tr>\n",
       "      <th>California</th>\n",
       "      <td>9.0</td>\n",
       "      <td>276</td>\n",
       "      <td>91</td>\n",
       "      <td>40.6</td>\n",
       "    </tr>\n",
       "  </tbody>\n",
       "</table>\n",
       "</div>"
      ],
      "text/plain": [
       "            Murder  Assault  UrbanPop  Rape\n",
       "Alabama       13.2      236        58  21.2\n",
       "Alaska        10.0      263        48  44.5\n",
       "Arizona        8.1      294        80  31.0\n",
       "Arkansas       8.8      190        50  19.5\n",
       "California     9.0      276        91  40.6"
      ]
     },
     "execution_count": 3,
     "metadata": {},
     "output_type": "execute_result"
    }
   ],
   "source": [
    "crime_rates.head()"
   ]
  },
  {
   "cell_type": "code",
   "execution_count": 4,
   "metadata": {},
   "outputs": [
    {
     "data": {
      "text/html": [
       "<div>\n",
       "<style scoped>\n",
       "    .dataframe tbody tr th:only-of-type {\n",
       "        vertical-align: middle;\n",
       "    }\n",
       "\n",
       "    .dataframe tbody tr th {\n",
       "        vertical-align: top;\n",
       "    }\n",
       "\n",
       "    .dataframe thead th {\n",
       "        text-align: right;\n",
       "    }\n",
       "</style>\n",
       "<table border=\"1\" class=\"dataframe\">\n",
       "  <thead>\n",
       "    <tr style=\"text-align: right;\">\n",
       "      <th></th>\n",
       "      <th>Murder</th>\n",
       "      <th>Assault</th>\n",
       "      <th>UrbanPop</th>\n",
       "      <th>Rape</th>\n",
       "    </tr>\n",
       "  </thead>\n",
       "  <tbody>\n",
       "    <tr>\n",
       "      <th>count</th>\n",
       "      <td>50.00000</td>\n",
       "      <td>50.000000</td>\n",
       "      <td>50.000000</td>\n",
       "      <td>50.000000</td>\n",
       "    </tr>\n",
       "    <tr>\n",
       "      <th>mean</th>\n",
       "      <td>7.78800</td>\n",
       "      <td>170.760000</td>\n",
       "      <td>65.540000</td>\n",
       "      <td>21.232000</td>\n",
       "    </tr>\n",
       "    <tr>\n",
       "      <th>std</th>\n",
       "      <td>4.35551</td>\n",
       "      <td>83.337661</td>\n",
       "      <td>14.474763</td>\n",
       "      <td>9.366385</td>\n",
       "    </tr>\n",
       "    <tr>\n",
       "      <th>min</th>\n",
       "      <td>0.80000</td>\n",
       "      <td>45.000000</td>\n",
       "      <td>32.000000</td>\n",
       "      <td>7.300000</td>\n",
       "    </tr>\n",
       "    <tr>\n",
       "      <th>25%</th>\n",
       "      <td>4.07500</td>\n",
       "      <td>109.000000</td>\n",
       "      <td>54.500000</td>\n",
       "      <td>15.075000</td>\n",
       "    </tr>\n",
       "    <tr>\n",
       "      <th>50%</th>\n",
       "      <td>7.25000</td>\n",
       "      <td>159.000000</td>\n",
       "      <td>66.000000</td>\n",
       "      <td>20.100000</td>\n",
       "    </tr>\n",
       "    <tr>\n",
       "      <th>75%</th>\n",
       "      <td>11.25000</td>\n",
       "      <td>249.000000</td>\n",
       "      <td>77.750000</td>\n",
       "      <td>26.175000</td>\n",
       "    </tr>\n",
       "    <tr>\n",
       "      <th>max</th>\n",
       "      <td>17.40000</td>\n",
       "      <td>337.000000</td>\n",
       "      <td>91.000000</td>\n",
       "      <td>46.000000</td>\n",
       "    </tr>\n",
       "  </tbody>\n",
       "</table>\n",
       "</div>"
      ],
      "text/plain": [
       "         Murder     Assault   UrbanPop       Rape\n",
       "count  50.00000   50.000000  50.000000  50.000000\n",
       "mean    7.78800  170.760000  65.540000  21.232000\n",
       "std     4.35551   83.337661  14.474763   9.366385\n",
       "min     0.80000   45.000000  32.000000   7.300000\n",
       "25%     4.07500  109.000000  54.500000  15.075000\n",
       "50%     7.25000  159.000000  66.000000  20.100000\n",
       "75%    11.25000  249.000000  77.750000  26.175000\n",
       "max    17.40000  337.000000  91.000000  46.000000"
      ]
     },
     "execution_count": 4,
     "metadata": {},
     "output_type": "execute_result"
    }
   ],
   "source": [
    "crime_rates.describe()"
   ]
  },
  {
   "cell_type": "markdown",
   "metadata": {},
   "source": [
    "# Normalizing data for any type of clustering"
   ]
  },
  {
   "cell_type": "code",
   "execution_count": 5,
   "metadata": {},
   "outputs": [
    {
     "name": "stdout",
     "output_type": "stream",
     "text": [
      "[[ 1.25517927  0.79078716 -0.52619514 -0.00345116]\n",
      " [ 0.51301858  1.11805959 -1.22406668  2.50942392]\n",
      " [ 0.07236067  1.49381682  1.00912225  1.05346626]\n",
      " [ 0.23470832  0.23321191 -1.08449238 -0.18679398]\n",
      " [ 0.28109336  1.2756352   1.77678094  2.08881393]\n",
      " [ 0.02597562  0.40290872  0.86954794  1.88390137]\n",
      " [-1.04088037 -0.73648418  0.79976079 -1.09272319]\n",
      " [-0.43787481  0.81502956  0.45082502 -0.58583422]\n",
      " [ 1.76541475  1.99078607  1.00912225  1.1505301 ]\n",
      " [ 2.22926518  0.48775713 -0.38662083  0.49265293]\n",
      " [-0.57702994 -1.51224105  1.21848371 -0.11129987]\n",
      " [-1.20322802 -0.61527217 -0.80534376 -0.75839217]\n",
      " [ 0.60578867  0.94836277  1.21848371  0.29852525]\n",
      " [-0.13637203 -0.70012057 -0.03768506 -0.0250209 ]\n",
      " [-1.29599811 -1.39102904 -0.5959823  -1.07115345]\n",
      " [-0.41468229 -0.67587817  0.03210209 -0.34856705]\n",
      " [ 0.44344101 -0.74860538 -0.94491807 -0.53190987]\n",
      " [ 1.76541475  0.94836277  0.03210209  0.10439756]\n",
      " [-1.31919063 -1.06375661 -1.01470522 -1.44862395]\n",
      " [ 0.81452136  1.56654403  0.10188925  0.70835037]\n",
      " [-0.78576263 -0.26375734  1.35805802 -0.53190987]\n",
      " [ 1.00006153  1.02108998  0.59039932  1.49564599]\n",
      " [-1.1800355  -1.19708982  0.03210209 -0.68289807]\n",
      " [ 1.9277624   1.06957478 -1.5032153  -0.44563089]\n",
      " [ 0.28109336  0.0877575   0.31125071  0.75148985]\n",
      " [-0.41468229 -0.74860538 -0.87513091 -0.521125  ]\n",
      " [-0.80895515 -0.83345379 -0.24704653 -0.51034012]\n",
      " [ 1.02325405  0.98472638  1.0789094   2.671197  ]\n",
      " [-1.31919063 -1.37890783 -0.66576945 -1.26528114]\n",
      " [-0.08998698 -0.14254532  1.63720664 -0.26228808]\n",
      " [ 0.83771388  1.38472601  0.31125071  1.17209984]\n",
      " [ 0.76813632  1.00896878  1.42784517  0.52500755]\n",
      " [ 1.20879423  2.01502847 -1.43342815 -0.55347961]\n",
      " [-1.62069341 -1.52436225 -1.5032153  -1.50254831]\n",
      " [-0.11317951 -0.61527217  0.66018648  0.01811858]\n",
      " [-0.27552716 -0.23951493  0.1716764  -0.13286962]\n",
      " [-0.66980002 -0.14254532  0.10188925  0.87012344]\n",
      " [-0.34510472 -0.78496898  0.45082502 -0.68289807]\n",
      " [-1.01768785  0.03927269  1.49763233 -1.39469959]\n",
      " [ 1.53348953  1.3119988  -1.22406668  0.13675217]\n",
      " [-0.92491776 -1.027393   -1.43342815 -0.90938037]\n",
      " [ 1.25517927  0.20896951 -0.45640799  0.61128652]\n",
      " [ 1.13921666  0.36654512  1.00912225  0.46029832]\n",
      " [-1.06407289 -0.61527217  1.00912225  0.17989166]\n",
      " [-1.29599811 -1.48799864 -2.34066115 -1.08193832]\n",
      " [ 0.16513075 -0.17890893 -0.17725937 -0.05737552]\n",
      " [-0.87853272 -0.31224214  0.52061217  0.53579242]\n",
      " [-0.48425985 -1.08799901 -1.85215107 -1.28685088]\n",
      " [-1.20322802 -1.42739264  0.03210209 -1.1250778 ]\n",
      " [-0.22914211 -0.11830292 -0.38662083 -0.60740397]]\n"
     ]
    },
    {
     "name": "stderr",
     "output_type": "stream",
     "text": [
      "/opt/conda/lib/python3.6/site-packages/ipykernel_launcher.py:3: DataConversionWarning: Data with input dtype int64, float64 were all converted to float64 by the scale function.\n",
      "  This is separate from the ipykernel package so we can avoid doing imports until\n"
     ]
    }
   ],
   "source": [
    "#standardize the data to normal distribution\n",
    "from sklearn import preprocessing\n",
    "crime_rates_standardized = preprocessing.scale(crime_rates)\n",
    "print(crime_rates_standardized)\n",
    "crime_rates_standardized = pd.DataFrame(crime_rates_standardized)"
   ]
  },
  {
   "cell_type": "markdown",
   "metadata": {},
   "source": [
    "# K-means Clustering"
   ]
  },
  {
   "cell_type": "code",
   "execution_count": 6,
   "metadata": {},
   "outputs": [
    {
     "data": {
      "image/png": "[encoded data removed]",
      "text/plain": [
       "<Figure size 720x576 with 1 Axes>"
      ]
     },
     "metadata": {},
     "output_type": "display_data"
    }
   ],
   "source": [
    "from sklearn.cluster import KMeans\n",
    "import matplotlib.pyplot as plt\n",
    "%matplotlib inline\n",
    "\n",
    "plt.figure(figsize=(10, 8))\n",
    "wcss = []\n",
    "for i in range(1, 11):\n",
    "    kmeans = KMeans(n_clusters = i, init = 'k-means++', random_state = 42)\n",
    "    kmeans.fit(crime_rates_standardized)\n",
    "    wcss.append(kmeans.inertia_) #criterion based on which K-means clustering works\n",
    "plt.plot(range(1, 11), wcss)\n",
    "plt.title('The Elbow Method')\n",
    "plt.xlabel('Number of clusters')\n",
    "plt.ylabel('WCSS')\n",
    "plt.show()"
   ]
  },
  {
   "cell_type": "markdown",
   "metadata": {},
   "source": [
    "The scree plot levels off at **k=4** and let's use it to determine the clusters."
   ]
  },
  {
   "cell_type": "markdown",
   "metadata": {},
   "source": [
    "### What is random_state?"
   ]
  },
  {
   "cell_type": "markdown",
   "metadata": {},
   "source": [
    "To set a seed and make the randomization more deterministic. Read [in detail](https://scikit-learn.org/stable/glossary.html#term-random-state)."
   ]
  },
  {
   "cell_type": "code",
   "execution_count": 7,
   "metadata": {},
   "outputs": [
    {
     "data": {
      "text/plain": [
       "array([1, 2, 2, 1, 2, 2, 0, 0, 2, 1, 0, 3, 2, 0, 3, 0, 3, 1, 3, 2, 0, 2,\n",
       "       3, 1, 2, 3, 3, 2, 3, 0, 2, 2, 1, 3, 0, 0, 0, 0, 0, 1, 3, 1, 2, 0,\n",
       "       3, 0, 0, 3, 3, 0], dtype=int32)"
      ]
     },
     "execution_count": 7,
     "metadata": {},
     "output_type": "execute_result"
    }
   ],
   "source": [
    "# Fitting K-Means to the dataset\n",
    "kmeans = KMeans(n_clusters = 4, init = 'k-means++', random_state = 42)\n",
    "y_kmeans = kmeans.fit_predict(crime_rates_standardized)\n",
    "\n",
    "y_kmeans\n"
   ]
  },
  {
   "cell_type": "code",
   "execution_count": 8,
   "metadata": {},
   "outputs": [],
   "source": [
    "#beginning of  the cluster numbering with 1 instead of 0\n",
    "y_kmeans1=y_kmeans+1\n",
    "\n",
    "# New list called cluster\n",
    "cluster = list(y_kmeans1)\n",
    "# Adding cluster to our data set\n",
    "crime_rates['cluster'] = cluster"
   ]
  },
  {
   "cell_type": "code",
   "execution_count": 9,
   "metadata": {},
   "outputs": [
    {
     "data": {
      "text/html": [
       "<div>\n",
       "<style scoped>\n",
       "    .dataframe tbody tr th:only-of-type {\n",
       "        vertical-align: middle;\n",
       "    }\n",
       "\n",
       "    .dataframe tbody tr th {\n",
       "        vertical-align: top;\n",
       "    }\n",
       "\n",
       "    .dataframe thead th {\n",
       "        text-align: right;\n",
       "    }\n",
       "</style>\n",
       "<table border=\"1\" class=\"dataframe\">\n",
       "  <thead>\n",
       "    <tr style=\"text-align: right;\">\n",
       "      <th></th>\n",
       "      <th>Murder</th>\n",
       "      <th>Assault</th>\n",
       "      <th>UrbanPop</th>\n",
       "      <th>Rape</th>\n",
       "    </tr>\n",
       "    <tr>\n",
       "      <th>cluster</th>\n",
       "      <th></th>\n",
       "      <th></th>\n",
       "      <th></th>\n",
       "      <th></th>\n",
       "    </tr>\n",
       "  </thead>\n",
       "  <tbody>\n",
       "    <tr>\n",
       "      <th>1</th>\n",
       "      <td>5.7</td>\n",
       "      <td>138.9</td>\n",
       "      <td>73.9</td>\n",
       "      <td>18.8</td>\n",
       "    </tr>\n",
       "    <tr>\n",
       "      <th>2</th>\n",
       "      <td>13.9</td>\n",
       "      <td>243.6</td>\n",
       "      <td>53.8</td>\n",
       "      <td>21.4</td>\n",
       "    </tr>\n",
       "    <tr>\n",
       "      <th>3</th>\n",
       "      <td>10.8</td>\n",
       "      <td>257.4</td>\n",
       "      <td>76.0</td>\n",
       "      <td>33.2</td>\n",
       "    </tr>\n",
       "    <tr>\n",
       "      <th>4</th>\n",
       "      <td>3.6</td>\n",
       "      <td>78.5</td>\n",
       "      <td>52.1</td>\n",
       "      <td>12.2</td>\n",
       "    </tr>\n",
       "  </tbody>\n",
       "</table>\n",
       "</div>"
      ],
      "text/plain": [
       "         Murder  Assault  UrbanPop  Rape\n",
       "cluster                                 \n",
       "1           5.7    138.9      73.9  18.8\n",
       "2          13.9    243.6      53.8  21.4\n",
       "3          10.8    257.4      76.0  33.2\n",
       "4           3.6     78.5      52.1  12.2"
      ]
     },
     "execution_count": 9,
     "metadata": {},
     "output_type": "execute_result"
    }
   ],
   "source": [
    "#Mean of clusters 1 to 4\n",
    "kmeans_mean_cluster = pd.DataFrame(round(crime_rates.groupby('cluster').mean(),1))\n",
    "kmeans_mean_cluster"
   ]
  },
  {
   "cell_type": "code",
   "execution_count": 10,
   "metadata": {},
   "outputs": [
    {
     "data": {
      "text/plain": [
       "<matplotlib.axes._subplots.AxesSubplot at 0x7fe5e9b64a90>"
      ]
     },
     "execution_count": 10,
     "metadata": {},
     "output_type": "execute_result"
    },
    {
     "data": {
      "image/png": "[encoded data removed]",
      "text/plain": [
       "<Figure size 864x432 with 1 Axes>"
      ]
     },
     "metadata": {},
     "output_type": "display_data"
    }
   ],
   "source": [
    "import seaborn as sns\n",
    "\n",
    "plt.figure(figsize=(12,6))\n",
    "sns.scatterplot(x=crime_rates['Murder'], y = crime_rates['Assault'],hue=y_kmeans1)"
   ]
  },
  {
   "cell_type": "markdown",
   "metadata": {},
   "source": [
    "### States in cluster 1"
   ]
  },
  {
   "cell_type": "code",
   "execution_count": 11,
   "metadata": {},
   "outputs": [
    {
     "data": {
      "text/html": [
       "<div>\n",
       "<style scoped>\n",
       "    .dataframe tbody tr th:only-of-type {\n",
       "        vertical-align: middle;\n",
       "    }\n",
       "\n",
       "    .dataframe tbody tr th {\n",
       "        vertical-align: top;\n",
       "    }\n",
       "\n",
       "    .dataframe thead th {\n",
       "        text-align: right;\n",
       "    }\n",
       "</style>\n",
       "<table border=\"1\" class=\"dataframe\">\n",
       "  <thead>\n",
       "    <tr style=\"text-align: right;\">\n",
       "      <th></th>\n",
       "      <th>Murder</th>\n",
       "      <th>Assault</th>\n",
       "      <th>UrbanPop</th>\n",
       "      <th>Rape</th>\n",
       "      <th>cluster</th>\n",
       "    </tr>\n",
       "  </thead>\n",
       "  <tbody>\n",
       "    <tr>\n",
       "      <th>Connecticut</th>\n",
       "      <td>3.3</td>\n",
       "      <td>110</td>\n",
       "      <td>77</td>\n",
       "      <td>11.1</td>\n",
       "      <td>1</td>\n",
       "    </tr>\n",
       "    <tr>\n",
       "      <th>Delaware</th>\n",
       "      <td>5.9</td>\n",
       "      <td>238</td>\n",
       "      <td>72</td>\n",
       "      <td>15.8</td>\n",
       "      <td>1</td>\n",
       "    </tr>\n",
       "    <tr>\n",
       "      <th>Hawaii</th>\n",
       "      <td>5.3</td>\n",
       "      <td>46</td>\n",
       "      <td>83</td>\n",
       "      <td>20.2</td>\n",
       "      <td>1</td>\n",
       "    </tr>\n",
       "    <tr>\n",
       "      <th>Indiana</th>\n",
       "      <td>7.2</td>\n",
       "      <td>113</td>\n",
       "      <td>65</td>\n",
       "      <td>21.0</td>\n",
       "      <td>1</td>\n",
       "    </tr>\n",
       "    <tr>\n",
       "      <th>Kansas</th>\n",
       "      <td>6.0</td>\n",
       "      <td>115</td>\n",
       "      <td>66</td>\n",
       "      <td>18.0</td>\n",
       "      <td>1</td>\n",
       "    </tr>\n",
       "    <tr>\n",
       "      <th>Massachusetts</th>\n",
       "      <td>4.4</td>\n",
       "      <td>149</td>\n",
       "      <td>85</td>\n",
       "      <td>16.3</td>\n",
       "      <td>1</td>\n",
       "    </tr>\n",
       "    <tr>\n",
       "      <th>New Jersey</th>\n",
       "      <td>7.4</td>\n",
       "      <td>159</td>\n",
       "      <td>89</td>\n",
       "      <td>18.8</td>\n",
       "      <td>1</td>\n",
       "    </tr>\n",
       "    <tr>\n",
       "      <th>Ohio</th>\n",
       "      <td>7.3</td>\n",
       "      <td>120</td>\n",
       "      <td>75</td>\n",
       "      <td>21.4</td>\n",
       "      <td>1</td>\n",
       "    </tr>\n",
       "    <tr>\n",
       "      <th>Oklahoma</th>\n",
       "      <td>6.6</td>\n",
       "      <td>151</td>\n",
       "      <td>68</td>\n",
       "      <td>20.0</td>\n",
       "      <td>1</td>\n",
       "    </tr>\n",
       "    <tr>\n",
       "      <th>Oregon</th>\n",
       "      <td>4.9</td>\n",
       "      <td>159</td>\n",
       "      <td>67</td>\n",
       "      <td>29.3</td>\n",
       "      <td>1</td>\n",
       "    </tr>\n",
       "    <tr>\n",
       "      <th>Pennsylvania</th>\n",
       "      <td>6.3</td>\n",
       "      <td>106</td>\n",
       "      <td>72</td>\n",
       "      <td>14.9</td>\n",
       "      <td>1</td>\n",
       "    </tr>\n",
       "    <tr>\n",
       "      <th>Rhode Island</th>\n",
       "      <td>3.4</td>\n",
       "      <td>174</td>\n",
       "      <td>87</td>\n",
       "      <td>8.3</td>\n",
       "      <td>1</td>\n",
       "    </tr>\n",
       "    <tr>\n",
       "      <th>Utah</th>\n",
       "      <td>3.2</td>\n",
       "      <td>120</td>\n",
       "      <td>80</td>\n",
       "      <td>22.9</td>\n",
       "      <td>1</td>\n",
       "    </tr>\n",
       "    <tr>\n",
       "      <th>Virginia</th>\n",
       "      <td>8.5</td>\n",
       "      <td>156</td>\n",
       "      <td>63</td>\n",
       "      <td>20.7</td>\n",
       "      <td>1</td>\n",
       "    </tr>\n",
       "    <tr>\n",
       "      <th>Washington</th>\n",
       "      <td>4.0</td>\n",
       "      <td>145</td>\n",
       "      <td>73</td>\n",
       "      <td>26.2</td>\n",
       "      <td>1</td>\n",
       "    </tr>\n",
       "    <tr>\n",
       "      <th>Wyoming</th>\n",
       "      <td>6.8</td>\n",
       "      <td>161</td>\n",
       "      <td>60</td>\n",
       "      <td>15.6</td>\n",
       "      <td>1</td>\n",
       "    </tr>\n",
       "  </tbody>\n",
       "</table>\n",
       "</div>"
      ],
      "text/plain": [
       "               Murder  Assault  UrbanPop  Rape  cluster\n",
       "Connecticut       3.3      110        77  11.1        1\n",
       "Delaware          5.9      238        72  15.8        1\n",
       "Hawaii            5.3       46        83  20.2        1\n",
       "Indiana           7.2      113        65  21.0        1\n",
       "Kansas            6.0      115        66  18.0        1\n",
       "Massachusetts     4.4      149        85  16.3        1\n",
       "New Jersey        7.4      159        89  18.8        1\n",
       "Ohio              7.3      120        75  21.4        1\n",
       "Oklahoma          6.6      151        68  20.0        1\n",
       "Oregon            4.9      159        67  29.3        1\n",
       "Pennsylvania      6.3      106        72  14.9        1\n",
       "Rhode Island      3.4      174        87   8.3        1\n",
       "Utah              3.2      120        80  22.9        1\n",
       "Virginia          8.5      156        63  20.7        1\n",
       "Washington        4.0      145        73  26.2        1\n",
       "Wyoming           6.8      161        60  15.6        1"
      ]
     },
     "execution_count": 11,
     "metadata": {},
     "output_type": "execute_result"
    }
   ],
   "source": [
    "crime_rates[crime_rates['cluster']==1]"
   ]
  },
  {
   "cell_type": "code",
   "execution_count": 12,
   "metadata": {},
   "outputs": [
    {
     "data": {
      "text/html": [
       "<a download=\"data.csv\" href=\"data:text/csv;base64,LE11cmRlcixBc3NhdWx0LFVyYmFuUG9wLFJhcGUsY2x1c3RlcgpBbGFiYW1hLDEzLjIsMjM2LDU4LDIxLjIsMgpBbGFza2EsMTAuMCwyNjMsNDgsNDQuNSwzCkFyaXpvbmEsOC4xLDI5NCw4MCwzMS4wLDMKQXJrYW5zYXMsOC44LDE5MCw1MCwxOS41LDIKQ2FsaWZvcm5pYSw5LjAsMjc2LDkxLDQwLjYsMwpDb2xvcmFkbyw3LjksMjA0LDc4LDM4LjcsMwpDb25uZWN0aWN1dCwzLjMsMTEwLDc3LDExLjEsMQpEZWxhd2FyZSw1LjksMjM4LDcyLDE1LjgsMQpGbG9yaWRhLDE1LjQsMzM1LDgwLDMxLjksMwpHZW9yZ2lhLDE3LjQsMjExLDYwLDI1LjgsMgpIYXdhaWksNS4zLDQ2LDgzLDIwLjIsMQpJZGFobywyLjYsMTIwLDU0LDE0LjIsNApJbGxpbm9pcywxMC40LDI0OSw4MywyNC4wLDMKSW5kaWFuYSw3LjIsMTEzLDY1LDIxLjAsMQpJb3dhLDIuMiw1Niw1NywxMS4zLDQKS2Fuc2FzLDYuMCwxMTUsNjYsMTguMCwxCktlbnR1Y2t5LDkuNywxMDksNTIsMTYuMyw0CkxvdWlzaWFuYSwxNS40LDI0OSw2NiwyMi4yLDIKTWFpbmUsMi4xLDgzLDUxLDcuOCw0Ck1hcnlsYW5kLDExLjMsMzAwLDY3LDI3LjgsMwpNYXNzYWNodXNldHRzLDQuNCwxNDksODUsMTYuMywxCk1pY2hpZ2FuLDEyLjEsMjU1LDc0LDM1LjEsMwpNaW5uZXNvdGEsMi43LDcyLDY2LDE0LjksNApNaXNzaXNzaXBwaSwxNi4xLDI1OSw0NCwxNy4xLDIKTWlzc291cmksOS4wLDE3OCw3MCwyOC4yLDMKTW9udGFuYSw2LjAsMTA5LDUzLDE2LjQsNApOZWJyYXNrYSw0LjMsMTAyLDYyLDE2LjUsNApOZXZhZGEsMTIuMiwyNTIsODEsNDYuMCwzCk5ldyBIYW1wc2hpcmUsMi4xLDU3LDU2LDkuNSw0Ck5ldyBKZXJzZXksNy40LDE1OSw4OSwxOC44LDEKTmV3IE1leGljbywxMS40LDI4NSw3MCwzMi4xLDMKTmV3IFlvcmssMTEuMSwyNTQsODYsMjYuMSwzCk5vcnRoIENhcm9saW5hLDEzLjAsMzM3LDQ1LDE2LjEsMgpOb3J0aCBEYWtvdGEsMC44LDQ1LDQ0LDcuMyw0Ck9oaW8sNy4zLDEyMCw3NSwyMS40LDEKT2tsYWhvbWEsNi42LDE1MSw2OCwyMC4wLDEKT3JlZ29uLDQuOSwxNTksNjcsMjkuMywxClBlbm5zeWx2YW5pYSw2LjMsMTA2LDcyLDE0LjksMQpSaG9kZSBJc2xhbmQsMy40LDE3NCw4Nyw4LjMsMQpTb3V0aCBDYXJvbGluYSwxNC40LDI3OSw0OCwyMi41LDIKU291dGggRGFrb3RhLDMuOCw4Niw0NSwxMi44LDQKVGVubmVzc2VlLDEzLjIsMTg4LDU5LDI2LjksMgpUZXhhcywxMi43LDIwMSw4MCwyNS41LDMKVXRhaCwzLjIsMTIwLDgwLDIyLjksMQpWZXJtb250LDIuMiw0OCwzMiwxMS4yLDQKVmlyZ2luaWEsOC41LDE1Niw2MywyMC43LDEKV2FzaGluZ3Rvbiw0LjAsMTQ1LDczLDI2LjIsMQpXZXN0IFZpcmdpbmlhLDUuNyw4MSwzOSw5LjMsNApXaXNjb25zaW4sMi42LDUzLDY2LDEwLjgsNApXeW9taW5nLDYuOCwxNjEsNjAsMTUuNiwxCg==\" target=\"_blank\">Download CSV file</a>"
      ],
      "text/plain": [
       "<IPython.core.display.HTML object>"
      ]
     },
     "execution_count": 12,
     "metadata": {},
     "output_type": "execute_result"
    }
   ],
   "source": [
    "from IPython.display import HTML\n",
    "import base64\n",
    "\n",
    "df = crime_rates\n",
    "def create_download_link( df, title = \"Download CSV file\", filename = \"data.csv\"):  \n",
    "    csv = df.to_csv()\n",
    "    b64 = base64.b64encode(csv.encode())\n",
    "    payload = b64.decode()\n",
    "    html = '<a download=\"{filename}\" href=\"data:text/csv;base64,{payload}\" target=\"_blank\">{title}</a>'\n",
    "    html = html.format(payload=payload,title=title,filename=filename)\n",
    "    return HTML(html)\n",
    "\n",
    "create_download_link(df)"
   ]
  }
 ],
 "metadata": {
  "kernelspec": {
   "display_name": "Python 3",
   "language": "python",
   "name": "python3"
  },
  "language_info": {
   "codemirror_mode": {
    "name": "ipython",
    "version": 3
   },
   "file_extension": ".py",
   "mimetype": "text/x-python",
   "name": "python",
   "nbconvert_exporter": "python",
   "pygments_lexer": "ipython3",
   "version": "3.7.1"
  }
 },
 "nbformat": 4,
 "nbformat_minor": 1
}
